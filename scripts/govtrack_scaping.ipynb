{
 "cells": [
  {
   "cell_type": "code",
   "execution_count": 6,
   "metadata": {},
   "outputs": [],
   "source": [
    "import os\n",
    "import urllib.request\n",
    "import pandas as pd\n",
    "from functools import reduce"
   ]
  },
  {
   "cell_type": "code",
   "execution_count": 44,
   "metadata": {
    "scrolled": true
   },
   "outputs": [
    {
     "name": "stdout",
     "output_type": "stream",
     "text": [
      "HTTP Error 404: Not Found could not get csv for metric  bills-enacted-ti at url https://www.govtrack.us/congress/members/report-cards/2013/house/bills-enacted-ti.csv\n",
      "skipping for now\n",
      "HTTP Error 404: Not Found could not get csv for metric  bills-with-cosponsor-other-party at url https://www.govtrack.us/congress/members/report-cards/2013/house/bills-with-cosponsor-other-party.csv\n",
      "skipping for now\n",
      "HTTP Error 404: Not Found could not get csv for metric  bills-enacted-ti at url https://www.govtrack.us/congress/members/report-cards/2013/senate/bills-enacted-ti.csv\n",
      "skipping for now\n",
      "HTTP Error 404: Not Found could not get csv for metric  bills-with-cosponsor-other-party at url https://www.govtrack.us/congress/members/report-cards/2013/senate/bills-with-cosponsor-other-party.csv\n",
      "skipping for now\n",
      "HTTP Error 404: Not Found could not get csv for metric  bills-enacted-ti at url https://www.govtrack.us/congress/members/report-cards/2014/house/bills-enacted-ti.csv\n",
      "skipping for now\n",
      "HTTP Error 404: Not Found could not get csv for metric  bills-with-cosponsor-other-party at url https://www.govtrack.us/congress/members/report-cards/2014/house/bills-with-cosponsor-other-party.csv\n",
      "skipping for now\n",
      "HTTP Error 404: Not Found could not get csv for metric  bills-enacted-ti at url https://www.govtrack.us/congress/members/report-cards/2014/senate/bills-enacted-ti.csv\n",
      "skipping for now\n",
      "HTTP Error 404: Not Found could not get csv for metric  bills-with-cosponsor-other-party at url https://www.govtrack.us/congress/members/report-cards/2014/senate/bills-with-cosponsor-other-party.csv\n",
      "skipping for now\n",
      "HTTP Error 404: Not Found could not get csv for metric  bills-enacted-ti at url https://www.govtrack.us/congress/members/report-cards/2015/house/bills-enacted-ti.csv\n",
      "skipping for now\n",
      "HTTP Error 404: Not Found could not get csv for metric  bills-with-cosponsor-other-party at url https://www.govtrack.us/congress/members/report-cards/2015/house/bills-with-cosponsor-other-party.csv\n",
      "skipping for now\n",
      "HTTP Error 404: Not Found could not get csv for metric  bills-enacted-ti at url https://www.govtrack.us/congress/members/report-cards/2015/senate/bills-enacted-ti.csv\n",
      "skipping for now\n",
      "HTTP Error 404: Not Found could not get csv for metric  bills-with-cosponsor-other-party at url https://www.govtrack.us/congress/members/report-cards/2015/senate/bills-with-cosponsor-other-party.csv\n",
      "skipping for now\n",
      "HTTP Error 404: Not Found could not get csv for metric  bills-with-cosponsor-other-party at url https://www.govtrack.us/congress/members/report-cards/2016/house/bills-with-cosponsor-other-party.csv\n",
      "skipping for now\n",
      "HTTP Error 404: Not Found could not get csv for metric  bills-with-cosponsor-other-party at url https://www.govtrack.us/congress/members/report-cards/2016/senate/bills-with-cosponsor-other-party.csv\n",
      "skipping for now\n",
      "HTTP Error 404: Not Found could not get csv for metric  bills-with-cosponsor-other-party at url https://www.govtrack.us/congress/members/report-cards/2017/house/bills-with-cosponsor-other-party.csv\n",
      "skipping for now\n",
      "HTTP Error 404: Not Found could not get csv for metric  bills-with-cosponsor-other-party at url https://www.govtrack.us/congress/members/report-cards/2017/senate/bills-with-cosponsor-other-party.csv\n",
      "skipping for now\n"
     ]
    }
   ],
   "source": [
    "years = list(range(2013, 2021))\n",
    "chambers = ['house', 'senate']\n",
    "\n",
    "metrics = ['cosponsored', 'bills-introduced', 'bills-reported',\n",
    "           'committee-positions', 'cosponsors', 'ideology',\n",
    "           'cosponsored-other-party', 'bills-enacted-ti', 'leadership',\n",
    "           'missed-votes', 'bills-with-committee-leaders',\n",
    "           'bills-with-companion', 'bills-with-cosponsor-other-party']\n",
    "\n",
    "i_cols = [3, 5]  # columns to keep (just the metric and the bioguide)\n",
    "\n",
    "year_dfs = []\n",
    "for y in years:\n",
    "    full_congress = []\n",
    "    for c in chambers:\n",
    "        dfs = []\n",
    "        for m in metrics:\n",
    "            url = f'https://www.govtrack.us/congress/members/report-cards/{y}/{c}/{m}.csv'\n",
    "            try:\n",
    "                dfs.append(pd.read_csv(url))\n",
    "            except Exception as e:\n",
    "                print(e, 'could not get csv for metric ', m, 'at url', url)\n",
    "\n",
    "        if len(dfs) > 0:\n",
    "            full_congress.append(\n",
    "                reduce(\n",
    "                    lambda left, right: pd.merge(left,\n",
    "                                                 right,\n",
    "                                                 on=['bioguide_id'],\n",
    "                                                 how='inner'),\n",
    "                    [x.iloc[:, i_cols] for x in dfs]\n",
    "                )\n",
    "            )\n",
    "        else:\n",
    "            print('empty dataframe list for year', y)\n",
    "\n",
    "    if len(full_congress) > 0:\n",
    "        (\n",
    "            pd.concat(full_congress)\n",
    "              .set_index('bioguide_id')\n",
    "              .to_json(f'{y}-report-card.json', orient='index')\n",
    "        )"
   ]
  },
  {
   "cell_type": "code",
   "execution_count": 52,
   "metadata": {},
   "outputs": [],
   "source": [
    "import yaml, json, datetime"
   ]
  },
  {
   "cell_type": "code",
   "execution_count": 55,
   "metadata": {
    "scrolled": true
   },
   "outputs": [],
   "source": [
    "with open('misconduct.yaml', 'r') as yaml_in, open('misconduct.json', 'w') as json_out:\n",
    "    yaml_object = yaml.safe_load(yaml_in)\n",
    "    restructured = {x['person']: x for x in yaml_object}\n",
    "    def converter(obj):\n",
    "        if isinstance(obj, (datetime.datetime, datetime.date)):\n",
    "            return obj.isoformat()\n",
    "        raise TypeError (f\"{type(obj)} not datetime\")\n",
    "    \n",
    "    json.dump(restructured, json_out, default=converter)"
   ]
  }
 ],
 "metadata": {
  "kernelspec": {
   "display_name": "Python 3",
   "language": "python",
   "name": "python3"
  },
  "language_info": {
   "codemirror_mode": {
    "name": "ipython",
    "version": 3
   },
   "file_extension": ".py",
   "mimetype": "text/x-python",
   "name": "python",
   "nbconvert_exporter": "python",
   "pygments_lexer": "ipython3",
   "version": "3.7.3"
  }
 },
 "nbformat": 4,
 "nbformat_minor": 4
}
